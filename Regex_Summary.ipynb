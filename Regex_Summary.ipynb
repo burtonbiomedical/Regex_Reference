{
 "cells": [
  {
   "cell_type": "markdown",
   "metadata": {},
   "source": [
    "<h1>Revising Regular Expression</h1>\n",
    "\n",
    "This Notebook acts as a reference for using regular expressions. I am starting with regular expressions by themselves, and then further down I have examples of using regular expressions in Python using the re module.\n",
    "\n",
    "The work shown here is actually a summary of the youtube videos provided by Corey Schafer, and you can find out more about him over on his <a href=\"https://www.youtube.com/channel/UCCezIgC97PvUuR4_gbFUs5g\">youtube channel.</a> For a full explination of regex you should go check out his videos.\n",
    "\n",
    "You can also test out all the examples over at <a href=\"https://regex101.com/\">Regex101</a>\n",
    "\n",
    "<h2>Getting Started: General Regex</h2>\n",
    "\n",
    "* You can search for literals, whereby you can type in the search term you are looking for e.g. \"abc\" as literally \"abc\". Important to note however:\n",
    "    * The search is case sensitive\n",
    "    * The order of letters matters\n",
    "* MetaCharacters - some characters have special functions, these are <strong>   .\\[{()^$|?*+   </strong> to escape these characters (and allow you to search for them) we use the backslash chracter\n",
    "    * So to escape a backslash, you would use '\\\\\\'\n",
    "\n",
    "<h3>MetaCharacters</h3>\n",
    "\n",
    "As mentioned above, metacharacters have special functions:\n",
    "\n",
    "* .     - Match any character except a new line\n",
    "* \\\\d   - Match any digit 0-9\n",
    "* \\\\D   - Match anything that is not a digit\n",
    "* \\\\w   - Match any word character (a-z, A-Z, 0-9)\n",
    "* \\\\W   - Match any non-word character (opposite of above)\n",
    "* \\\\s   - Match any whitespace (space, tab, or new line)\n",
    "* \\\\S   - Match any non-whitespace \n",
    "\n",
    "<h3>Anchors</h3>\n",
    "\n",
    "A bit like metacharacters, except they do not match chracters, but match the positions before and after characters\n",
    "\n",
    "* \\\\b   - Will match word boundaries\n",
    "* \\\\B   - Match anything without a word boundary\n",
    "\n",
    "$Example$\n",
    "\n",
    "> \\\\bHa\n",
    "\n",
    "Would match the following:\n",
    "\n",
    "> <strong style=\"text-decoration: underline\">Ha</strong> <strong style=\"text-decoration: underline\">Ha</strong>Ha\n",
    "\n",
    "So because there is a word boundary at the beginning of the first and second 'Ha' it matches both of them, but the last 'Ha' does not have a word boundary at the beginning, only the end. If we were to use the expression *\\\\bHa\\\\b* then it would only match the first instance of 'Ha' as this is the only one with a word boundary at the beginning **and** end\n",
    "\n",
    "> \\\\BHa\n",
    "\n",
    "Would match the following:\n",
    "\n",
    "> Ha Ha<strong style=\"text-decoration: underline\">Ha</strong>\n",
    "\n",
    "The last 'Ha' is matched, because its the only instance of 'Ha' where there is no word boundary at the beginning\n",
    "\n",
    "* ^   - Beginning of the string\n",
    "* \\$   - End of the string\n",
    "\n",
    "$Example$\n",
    "\n",
    "> \\\\^Ha\n",
    "\n",
    "Would match the following:\n",
    "\n",
    "> <strong style=\"text-decoration: underline\">Ha</strong> HaHa\n",
    "\n",
    "Only match the instance of 'Ha' that is preceeded by the beginning of the string\n",
    "\n",
    "> \\\\BHa\n",
    "\n",
    "Would match the following:\n",
    "\n",
    "> Ha Ha<strong style=\"text-decoration: underline\">Ha</strong>\n",
    "\n",
    "Only match the instance of 'Ha' that is followed by the end of the string\n",
    "\n",
    "<h3>More examples: Matching phone numbers and using character sets</h3>\n",
    "\n",
    "* []   - Match character set (within square brackets)\n",
    "* [^ ] - Match chracters not in character set\n",
    "\n",
    "Lets look at matching phone numbers as an example:\n",
    "\n",
    "> 321-555-4321\n",
    "\n",
    "> 123.555.1234\n",
    "\n",
    "We can start by writing an expression that matches three digits in a row:\n",
    "\n",
    "> \\\\d\\\\d\\\\d\n",
    "\n",
    "We could then use the period metacharacter to match any chracter that occurs between our digits, and our final expression for matching phone numbers would look like this:\n",
    "\n",
    "> \\\\d\\\\d\\\\d.\\\\d\\\\d\\\\d.\\\\d\\\\d\\\\d\\\\d\n",
    "\n",
    "However, if we wanted to only match phone numbers where the digits are seperated by a dash or a do, like in the example above, we use an expression with a **character set**. A character set uses square brackets that contains the characters we want to match:\n",
    "\n",
    "> \\\\d\\\\d\\\\d[-.]\\\\d\\\\d\\\\d[-.]\\\\d\\\\d\\\\d\\\\d\n",
    "\n",
    "NB. You do not need to escape metacharacters when they are within a character set, EXCEPT for the dash character. Now if the dash chracter is at the beginning or end of the character set, then we don't need to escape it. But, if it is placed between chracters, then it represents a range.\n",
    "\n",
    "So the character set contains all chracters that would be acceptable at that position to match the search. It should be highlighted that it is looking for a single chracter that matches a character in the square brackets. If the phone number was *345..-234* then it would not match this string, because after it has recognised the first dot, it will move along the expression and look for a digit.\n",
    "\n",
    "We can use character sets for powerful search queries, so for example, if we wanted to find phone numbers that started with the three digits *800* or *900*:\n",
    "\n",
    "> [89]00[-.]\\\\d\\\\d\\\\d[-.]\\\\d\\\\d\\\\d\\\\d\n",
    "\n",
    "We have a character set that will match the first digit if it is an 8 or 9, and then two literals that must be a 0 too match\n",
    "\n",
    "If we wanted to specify a range of values in the character set, say a phone number that begins with a value between 1 and 7, we would use:\n",
    "\n",
    "> [1-7]\\\\d\\\\d[-.]\\\\d\\\\d\\\\d[-.]\\\\d\\\\d\\\\d\\\\d\n",
    "\n",
    "We can use ranges for letters e.g. [a-z] matches all lower case letters 'a' through 'z' or we can also use ranges back to back, and use [a-zA-Z] to match all lowercase and uppercase leters 'a' through 'z'\n",
    "\n",
    "We can match everythin that is **not** in the character set by using the carrot symbol:\n",
    "\n",
    "> [^a-z]\n",
    "\n",
    "This would match any characters that are not lower case letters between 'a' and 'z'\n",
    "\n",
    "Another example, say we want to match everything in this list except 'bat':\n",
    "\n",
    "> cat\n",
    "\n",
    "> mat\n",
    "\n",
    "> pat\n",
    "\n",
    "> bat\n",
    "\n",
    "We could use the carrot and a character set to match everything with the first letter that is not 'b' and also the literals 'at':\n",
    "\n",
    "> [^b]at\n",
    "\n",
    "<h3>Quantifiers</h3>\n",
    "\n",
    "Rather than repeating ourselves by typing out expressions like:\n",
    "\n",
    "> \\\\d\\\\d\\\\d[-.]\\\\d\\\\d\\\\d[-.]\\\\d\\\\d\\\\d\\\\d\n",
    "\n",
    "We can use quantifiers:\n",
    "* \\*    - 0 or More\n",
    "* \\+    - 1 or More\n",
    "* ?     - 0 or One\n",
    "* {3}   - Exact quantity (the value in the curly brackets)\n",
    "* {2,4} - Range of numbers ({minimum, maximum}, so between 2 or 4 occurances, in this example)\n",
    "\n",
    "Looking at the phone number example again:\n",
    "\n",
    "> 321-555-4321\n",
    "\n",
    "> 123.555.1234\n",
    "\n",
    "We can use quantifiers:\n",
    "\n",
    "> \\\\d{3}[-.]\\\\d{3}[-.]\\\\d{4}\n",
    "\n",
    "Another example, say we wanted to match all of the names beginning with 'Mr' in the following list, regardless of whether it was followed by a period:\n",
    "\n",
    "> Mr. Schafer\n",
    "\n",
    "> Mr Smith\n",
    "\n",
    "> Ms Davis\n",
    "\n",
    "> Mrs. Robinson\n",
    "\n",
    "> Mr. T\n",
    "\n",
    "We could use the expression:\n",
    "\n",
    "> Mr\\\\.?\n",
    "\n",
    "This would look for the literal 'Mr' and then a period chracter occuring once or not at all, indicated by the question mark following the period\n",
    "\n",
    "To complete this expression we would then add the following:\n",
    "\n",
    "> Mr\\\\.?\\\\s[A-Z]\\\\w*\n",
    "\n",
    "Lets break this down, we match the literal 'Mr', then the period character occuring once or not at all, then a whitespace chracter, then we want to match an uppercase letter in the range 'A' to 'Z', and finally we want to match any word chracter that occurs 0 or more times, so we follow the \\\\w with an asterix \n",
    "\n",
    "Now, what if we want to grab the female names which start with 'Ms' or 'Mrs', for this we have to use groups:\n",
    "\n",
    "<h3>Groups</h3>\n",
    "\n",
    "* ( )  - Groups\n",
    "* |    - Either Or\n",
    "\n",
    "To grab the female names only, we would use a group that specifies the female prefixes:\n",
    "\n",
    "> (Ms|Mrs)\\.?\\s[A-Z]\\w*\n",
    "\n",
    "Here, the expression matches a string that starts with 'Ms' OR 'Mrs', followed by the same expression as previous\n",
    "\n",
    "<h3>A couple of final examples</h3>\n",
    "\n",
    "Matching email addresses:\n",
    "\n",
    "> CoreyMSchafer@gmail.com\n",
    "\n",
    "> corey.schafer@university.edu\n",
    "\n",
    "> corey-321-schafer@my-work.net\n",
    "\n",
    "Lets create a regular expression that matches all of the above email addresses:\n",
    "\n",
    "> [a-zA-Z0-9.-]+@[a-zA-Z-]+\\\\.(com|edu|net)\n",
    "\n",
    "So, this matches one or more character 'a' through 'z' upper and lowercase, or numbers 0 to 9, or a dot or dash, followed by a literal '@', then one or more characters 'a' through 'z' upper and lowercase or a dash, followed by a literal period, followed by either 'com', 'edu', or 'net'.\n",
    "\n",
    "Mathing domain names:\n",
    "\n",
    "> https://www.google.com\n",
    "\n",
    "> http://coreyms.com\n",
    "\n",
    "> https://youtube.com\n",
    "\n",
    "> https://www.nasa.gov\n",
    "\n",
    "We could match these domains with:\n",
    "\n",
    "> https?://(www\\\\.)?\\w+\\\\.\\w+\n",
    "\n",
    "Notice that the group captures the 'www.' which doesn't always occurs, which we can then follow with a '?' and what this says is, look for 'www.' occuring zero or more times.\n",
    "\n",
    "Groups also allow us to tidy up our expressions by splitting them into groups as follows:\n",
    "\n",
    "> https?://(www\\\\.)?(\\w+)(\\\\.\\w+)\n",
    "\n",
    "Whats even cooler, is that we can now reference these groups. Now how we reference the groups can depend on the language or tool we are using but it is often a backslash or sometimes a dollar sign. But in some text editors, we could reference the first groups 'www.' with \\$1\n",
    "\n",
    "It's not being disgusting, indexes do start at 0 (as they should) its just group 0 refers to the entire matched expression."
   ]
  },
  {
   "cell_type": "markdown",
   "metadata": {},
   "source": [
    "<h2>Regex in Python</h2>\n",
    "\n",
    "You can use Regex with the re module in python. I will go over some of the examples as above but with Python programming language, and using some Python specfic commands."
   ]
  },
  {
   "cell_type": "code",
   "execution_count": 1,
   "metadata": {
    "collapsed": true
   },
   "outputs": [],
   "source": [
    "import re"
   ]
  },
  {
   "cell_type": "code",
   "execution_count": 20,
   "metadata": {
    "collapsed": true
   },
   "outputs": [],
   "source": [
    "text_to_search = '''\n",
    "abcdefghijklmnopqrstuvwxyz\n",
    "ABCDEFGHIJKLMNOPQRSTUVWXYZ\n",
    "\n",
    "Ha HaHa\n",
    "\n",
    "Metacharacters (need to be escaped):\n",
    ". ^ $ * + ? { } [ ] \\ | ( )\n",
    "\n",
    "coreyms.com\n",
    "\n",
    "321-555-4321\n",
    "123.555.1234\n",
    "\n",
    "Mr. Schafer\n",
    "Mr Smith\n",
    "Ms Davis\n",
    "Mrs. Robinson\n",
    "Mr. T\n",
    "'''\n",
    "\n",
    "domain_name_text = \"\"\"\n",
    "https://www.google.com\n",
    "http://coreyms.com\n",
    "https://youtube.com\n",
    "https://www.nasa.gov\n",
    "\"\"\""
   ]
  },
  {
   "cell_type": "markdown",
   "metadata": {},
   "source": [
    "A raw string in python is prefixed with an 'r', this tells Python not to handle backslashes in any special way. Backslashes are used to represent white space like tabs and new lines, but a raw string will interpret the backslash as just a backslash. So this is important because we want Regex to interpret the string as is, and we don't want Python interfering. So we pass our strings as raw strings.\n",
    "\n",
    "We use the compile method in the re module to assign our regex expressions to a variable:"
   ]
  },
  {
   "cell_type": "code",
   "execution_count": 3,
   "metadata": {},
   "outputs": [
    {
     "name": "stdout",
     "output_type": "stream",
     "text": [
      "<_sre.SRE_Match object; span=(1, 4), match='abc'>\n"
     ]
    }
   ],
   "source": [
    "#So we prefix with r to make it a raw string\n",
    "pattern = re.compile(r'abc')\n",
    "\n",
    "matches = pattern.finditer(text_to_search)\n",
    "for match in matches:\n",
    "    print(match)"
   ]
  },
  {
   "cell_type": "markdown",
   "metadata": {},
   "source": [
    "Span is the beginning and end index of the match. So when we used the finditer method on pattern, it found one occurance on indexes 1 through 4. We can then use string slicing to get our match:"
   ]
  },
  {
   "cell_type": "code",
   "execution_count": 4,
   "metadata": {},
   "outputs": [
    {
     "name": "stdout",
     "output_type": "stream",
     "text": [
      "abc\n"
     ]
    }
   ],
   "source": [
    "print(text_to_search[1:4])"
   ]
  },
  {
   "cell_type": "markdown",
   "metadata": {},
   "source": [
    "Pull out phone numbers and add to array:\n",
    "\n",
    "We can use the group method of match to get the string value that matches our expression. Remember that group 0 corresponds to our entire match."
   ]
  },
  {
   "cell_type": "code",
   "execution_count": 18,
   "metadata": {},
   "outputs": [],
   "source": [
    "matches = re.compile(r'\\d{3}[-.]\\d{3}[-.]\\d{4}').finditer(text_to_search)\n",
    "phone_numbers = [match.group(0) for match in matches]"
   ]
  },
  {
   "cell_type": "code",
   "execution_count": 19,
   "metadata": {},
   "outputs": [
    {
     "data": {
      "text/plain": [
       "['321-555-4321', '123.555.1234']"
      ]
     },
     "execution_count": 19,
     "metadata": {},
     "output_type": "execute_result"
    }
   ],
   "source": [
    "phone_numbers"
   ]
  },
  {
   "cell_type": "markdown",
   "metadata": {},
   "source": [
    "Get all male names:"
   ]
  },
  {
   "cell_type": "code",
   "execution_count": 21,
   "metadata": {
    "collapsed": true
   },
   "outputs": [],
   "source": [
    "matches = re.compile(r'Mr\\.?\\s[A-Z]\\w*').finditer(text_to_search)\n",
    "male_names = [match.group(0) for match in matches]"
   ]
  },
  {
   "cell_type": "code",
   "execution_count": 22,
   "metadata": {},
   "outputs": [
    {
     "data": {
      "text/plain": [
       "['Mr. Schafer', 'Mr Smith', 'Mr. T']"
      ]
     },
     "execution_count": 22,
     "metadata": {},
     "output_type": "execute_result"
    }
   ],
   "source": [
    "male_names"
   ]
  },
  {
   "cell_type": "markdown",
   "metadata": {},
   "source": [
    "Get all female names:"
   ]
  },
  {
   "cell_type": "code",
   "execution_count": 23,
   "metadata": {
    "collapsed": true
   },
   "outputs": [],
   "source": [
    "matches = re.compile(r'(Ms|Mrs)\\.?\\s[A-Z]\\w*').finditer(text_to_search)\n",
    "female_names = [match.group(0) for match in matches]"
   ]
  },
  {
   "cell_type": "code",
   "execution_count": 24,
   "metadata": {},
   "outputs": [
    {
     "data": {
      "text/plain": [
       "['Ms Davis', 'Mrs. Robinson']"
      ]
     },
     "execution_count": 24,
     "metadata": {},
     "output_type": "execute_result"
    }
   ],
   "source": [
    "female_names"
   ]
  },
  {
   "cell_type": "markdown",
   "metadata": {},
   "source": [
    "Get domain names without the protocal prefix by refering to groups:"
   ]
  },
  {
   "cell_type": "code",
   "execution_count": 29,
   "metadata": {},
   "outputs": [],
   "source": [
    "matches = re.compile(r'https?://(www\\.)?(\\w+)(\\.\\w+)').finditer(domain_name_text)\n",
    "domain_names = [match.group(2)+match.group(3) for match in matches]"
   ]
  },
  {
   "cell_type": "code",
   "execution_count": 30,
   "metadata": {},
   "outputs": [
    {
     "data": {
      "text/plain": [
       "['google.com', 'coreyms.com', 'youtube.com', 'nasa.gov']"
      ]
     },
     "execution_count": 30,
     "metadata": {},
     "output_type": "execute_result"
    }
   ],
   "source": [
    "domain_names"
   ]
  },
  {
   "cell_type": "markdown",
   "metadata": {},
   "source": [
    "We can also use back references to replace the domain names with the corrected domain names as in the list above. We do this using the re module 'sub', and then refer to the group we want to replace the string with by refering to the group(s) with a backslash, and then as a second parameter we pass the string we want to replace:"
   ]
  },
  {
   "cell_type": "code",
   "execution_count": 31,
   "metadata": {
    "collapsed": true
   },
   "outputs": [],
   "source": [
    "subbed_urls = re.compile(r'https?://(www\\.)?(\\w+)(\\.\\w+)').sub(r'\\2\\3', domain_name_text)"
   ]
  },
  {
   "cell_type": "code",
   "execution_count": 33,
   "metadata": {},
   "outputs": [
    {
     "name": "stdout",
     "output_type": "stream",
     "text": [
      "\n",
      "google.com\n",
      "coreyms.com\n",
      "youtube.com\n",
      "nasa.gov\n",
      "\n"
     ]
    }
   ],
   "source": [
    "print(subbed_urls)"
   ]
  },
  {
   "cell_type": "markdown",
   "metadata": {},
   "source": [
    "The findall method will return the matches as a list of strings, so lets get a list of phone numbers:"
   ]
  },
  {
   "cell_type": "code",
   "execution_count": 38,
   "metadata": {
    "collapsed": true
   },
   "outputs": [],
   "source": [
    "matches = re.compile(r'\\d{3}[-.]\\d{3}[-.]\\d{4}').findall(text_to_search)"
   ]
  },
  {
   "cell_type": "code",
   "execution_count": 39,
   "metadata": {},
   "outputs": [
    {
     "data": {
      "text/plain": [
       "['321-555-4321', '123.555.1234']"
      ]
     },
     "execution_count": 39,
     "metadata": {},
     "output_type": "execute_result"
    }
   ],
   "source": [
    "matches"
   ]
  },
  {
   "cell_type": "markdown",
   "metadata": {},
   "source": [
    "The match method doesn't return an iterable, but instead matches an expression at the beginning of a string, and then returns re match object:"
   ]
  },
  {
   "cell_type": "code",
   "execution_count": 43,
   "metadata": {
    "collapsed": true
   },
   "outputs": [],
   "source": [
    "sentence = \"Start of a sentence\""
   ]
  },
  {
   "cell_type": "code",
   "execution_count": 44,
   "metadata": {
    "collapsed": true
   },
   "outputs": [],
   "source": [
    "matches = re.compile(r'Start').match(sentence)"
   ]
  },
  {
   "cell_type": "code",
   "execution_count": 45,
   "metadata": {},
   "outputs": [
    {
     "name": "stdout",
     "output_type": "stream",
     "text": [
      "<_sre.SRE_Match object; span=(0, 5), match='Start'>\n"
     ]
    }
   ],
   "source": [
    "print(matches)"
   ]
  },
  {
   "cell_type": "markdown",
   "metadata": {},
   "source": [
    "The search method also doesn't return an iterable, but instead finds the first match in the entire string, and then returns re match object:"
   ]
  },
  {
   "cell_type": "code",
   "execution_count": 48,
   "metadata": {
    "collapsed": true
   },
   "outputs": [],
   "source": [
    "matches = re.compile(r'of').search(sentence)"
   ]
  },
  {
   "cell_type": "code",
   "execution_count": 49,
   "metadata": {},
   "outputs": [
    {
     "name": "stdout",
     "output_type": "stream",
     "text": [
      "<_sre.SRE_Match object; span=(6, 8), match='of'>\n"
     ]
    }
   ],
   "source": [
    "print(matches)"
   ]
  },
  {
   "cell_type": "markdown",
   "metadata": {},
   "source": [
    "<h3>Flags</h3>\n",
    "\n",
    "Python allows you to pass in flags as a second parameter to the compile method, which can be quite powerful. So for example, if you wanted to ignore case in your search, rather than using a range for every chracter, you can do:"
   ]
  },
  {
   "cell_type": "code",
   "execution_count": 50,
   "metadata": {
    "collapsed": true
   },
   "outputs": [],
   "source": [
    "awkward_text = \"ThIs Is SOMe AwKwARD TexT\""
   ]
  },
  {
   "cell_type": "code",
   "execution_count": 58,
   "metadata": {},
   "outputs": [],
   "source": [
    "matches = re.compile(r'.*', re.IGNORECASE).search(awkward_text)"
   ]
  },
  {
   "cell_type": "code",
   "execution_count": 59,
   "metadata": {},
   "outputs": [
    {
     "data": {
      "text/plain": [
       "<_sre.SRE_Match object; span=(0, 25), match='ThIs Is SOMe AwKwARD TexT'>"
      ]
     },
     "execution_count": 59,
     "metadata": {},
     "output_type": "execute_result"
    }
   ],
   "source": [
    "matches"
   ]
  },
  {
   "cell_type": "markdown",
   "metadata": {},
   "source": [
    "And that concludes the Regex summary, other useful links:\n",
    "\n",
    "* https://www.regextester.com/\n",
    "* https://regex101.com/\n",
    "* https://www.debuggex.com/cheatsheet/regex/python"
   ]
  },
  {
   "cell_type": "code",
   "execution_count": null,
   "metadata": {
    "collapsed": true
   },
   "outputs": [],
   "source": []
  }
 ],
 "metadata": {
  "kernelspec": {
   "display_name": "Python 3",
   "language": "python",
   "name": "python3"
  },
  "language_info": {
   "codemirror_mode": {
    "name": "ipython",
    "version": 3
   },
   "file_extension": ".py",
   "mimetype": "text/x-python",
   "name": "python",
   "nbconvert_exporter": "python",
   "pygments_lexer": "ipython3",
   "version": "3.5.2"
  }
 },
 "nbformat": 4,
 "nbformat_minor": 2
}
